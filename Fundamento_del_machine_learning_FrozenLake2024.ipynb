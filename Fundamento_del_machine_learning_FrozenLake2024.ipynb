{
  "nbformat": 4,
  "nbformat_minor": 0,
  "metadata": {
    "colab": {
      "provenance": [],
      "authorship_tag": "ABX9TyOn7isKRkWLmS7xI7q1tQ9X",
      "include_colab_link": true
    },
    "kernelspec": {
      "name": "python3",
      "display_name": "Python 3"
    },
    "language_info": {
      "name": "python"
    }
  },
  "cells": [
    {
      "cell_type": "markdown",
      "metadata": {
        "id": "view-in-github",
        "colab_type": "text"
      },
      "source": [
        "<a href=\"https://colab.research.google.com/github/hdeavila1992/Fundamentos-de-Machine-Learning/blob/main/Fundamento_del_machine_learning_FrozenLake2024.ipynb\" target=\"_parent\"><img src=\"https://colab.research.google.com/assets/colab-badge.svg\" alt=\"Open In Colab\"/></a>"
      ]
    },
    {
      "cell_type": "code",
      "execution_count": null,
      "metadata": {
        "colab": {
          "base_uri": "https://localhost:8080/"
        },
        "id": "wD_pXcuLtR4Q",
        "outputId": "dca151a0-e55b-4221-9fc1-3b091fd192c5"
      },
      "outputs": [
        {
          "output_type": "stream",
          "name": "stdout",
          "text": [
            "Collecting pyglet\n",
            "  Downloading pyglet-2.1.1-py3-none-any.whl.metadata (7.7 kB)\n",
            "Downloading pyglet-2.1.1-py3-none-any.whl (961 kB)\n",
            "\u001b[2K   \u001b[90m━━━━━━━━━━━━━━━━━━━━━━━━━━━━━━━━━━━━━━━━\u001b[0m \u001b[32m961.9/961.9 kB\u001b[0m \u001b[31m9.0 MB/s\u001b[0m eta \u001b[36m0:00:00\u001b[0m\n",
            "\u001b[?25hInstalling collected packages: pyglet\n",
            "Successfully installed pyglet-2.1.1\n",
            "Requirement already satisfied: pygame in /usr/local/lib/python3.11/dist-packages (2.6.1)\n",
            "pygame 2.6.1 (SDL 2.28.4, Python 3.11.11)\n",
            "Hello from the pygame community. https://www.pygame.org/contribute.html\n",
            "Collecting renderlab\n",
            "  Downloading renderlab-0.1.20230421184216-py3-none-any.whl.metadata (1.9 kB)\n",
            "Requirement already satisfied: moviepy in /usr/local/lib/python3.11/dist-packages (from renderlab) (1.0.3)\n",
            "Collecting gymnasium (from renderlab)\n",
            "  Downloading gymnasium-1.0.0-py3-none-any.whl.metadata (9.5 kB)\n",
            "Requirement already satisfied: numpy>=1.21.0 in /usr/local/lib/python3.11/dist-packages (from gymnasium->renderlab) (1.26.4)\n",
            "Requirement already satisfied: cloudpickle>=1.2.0 in /usr/local/lib/python3.11/dist-packages (from gymnasium->renderlab) (3.1.0)\n",
            "Requirement already satisfied: typing-extensions>=4.3.0 in /usr/local/lib/python3.11/dist-packages (from gymnasium->renderlab) (4.12.2)\n",
            "Collecting farama-notifications>=0.0.1 (from gymnasium->renderlab)\n",
            "  Downloading Farama_Notifications-0.0.4-py3-none-any.whl.metadata (558 bytes)\n",
            "Requirement already satisfied: decorator<5.0,>=4.0.2 in /usr/local/lib/python3.11/dist-packages (from moviepy->renderlab) (4.4.2)\n",
            "Requirement already satisfied: imageio<3.0,>=2.5 in /usr/local/lib/python3.11/dist-packages (from moviepy->renderlab) (2.36.1)\n",
            "Requirement already satisfied: imageio_ffmpeg>=0.2.0 in /usr/local/lib/python3.11/dist-packages (from moviepy->renderlab) (0.5.1)\n",
            "Requirement already satisfied: tqdm<5.0,>=4.11.2 in /usr/local/lib/python3.11/dist-packages (from moviepy->renderlab) (4.67.1)\n",
            "Requirement already satisfied: requests<3.0,>=2.8.1 in /usr/local/lib/python3.11/dist-packages (from moviepy->renderlab) (2.32.3)\n",
            "Requirement already satisfied: proglog<=1.0.0 in /usr/local/lib/python3.11/dist-packages (from moviepy->renderlab) (0.1.10)\n",
            "Requirement already satisfied: pillow>=8.3.2 in /usr/local/lib/python3.11/dist-packages (from imageio<3.0,>=2.5->moviepy->renderlab) (11.1.0)\n",
            "Requirement already satisfied: setuptools in /usr/local/lib/python3.11/dist-packages (from imageio_ffmpeg>=0.2.0->moviepy->renderlab) (75.1.0)\n",
            "Requirement already satisfied: charset-normalizer<4,>=2 in /usr/local/lib/python3.11/dist-packages (from requests<3.0,>=2.8.1->moviepy->renderlab) (3.4.1)\n",
            "Requirement already satisfied: idna<4,>=2.5 in /usr/local/lib/python3.11/dist-packages (from requests<3.0,>=2.8.1->moviepy->renderlab) (3.10)\n",
            "Requirement already satisfied: urllib3<3,>=1.21.1 in /usr/local/lib/python3.11/dist-packages (from requests<3.0,>=2.8.1->moviepy->renderlab) (2.3.0)\n",
            "Requirement already satisfied: certifi>=2017.4.17 in /usr/local/lib/python3.11/dist-packages (from requests<3.0,>=2.8.1->moviepy->renderlab) (2024.12.14)\n",
            "Downloading renderlab-0.1.20230421184216-py3-none-any.whl (4.0 kB)\n",
            "Downloading gymnasium-1.0.0-py3-none-any.whl (958 kB)\n",
            "\u001b[2K   \u001b[90m━━━━━━━━━━━━━━━━━━━━━━━━━━━━━━━━━━━━━━━━\u001b[0m \u001b[32m958.1/958.1 kB\u001b[0m \u001b[31m12.7 MB/s\u001b[0m eta \u001b[36m0:00:00\u001b[0m\n",
            "\u001b[?25hDownloading Farama_Notifications-0.0.4-py3-none-any.whl (2.5 kB)\n",
            "Installing collected packages: farama-notifications, gymnasium, renderlab\n",
            "Successfully installed farama-notifications-0.0.4 gymnasium-1.0.0 renderlab-0.1.20230421184216\n",
            "Collecting swig\n",
            "  Downloading swig-4.3.0-py2.py3-none-manylinux_2_5_x86_64.manylinux1_x86_64.whl.metadata (3.5 kB)\n",
            "Downloading swig-4.3.0-py2.py3-none-manylinux_2_5_x86_64.manylinux1_x86_64.whl (1.9 MB)\n",
            "\u001b[2K   \u001b[90m━━━━━━━━━━━━━━━━━━━━━━━━━━━━━━━━━━━━━━━━\u001b[0m \u001b[32m1.9/1.9 MB\u001b[0m \u001b[31m7.5 MB/s\u001b[0m eta \u001b[36m0:00:00\u001b[0m\n",
            "\u001b[?25hInstalling collected packages: swig\n",
            "Successfully installed swig-4.3.0\n",
            "Requirement already satisfied: gymnasium[box2d] in /usr/local/lib/python3.11/dist-packages (1.0.0)\n",
            "Requirement already satisfied: numpy>=1.21.0 in /usr/local/lib/python3.11/dist-packages (from gymnasium[box2d]) (1.26.4)\n",
            "Requirement already satisfied: cloudpickle>=1.2.0 in /usr/local/lib/python3.11/dist-packages (from gymnasium[box2d]) (3.1.0)\n",
            "Requirement already satisfied: typing-extensions>=4.3.0 in /usr/local/lib/python3.11/dist-packages (from gymnasium[box2d]) (4.12.2)\n",
            "Requirement already satisfied: farama-notifications>=0.0.1 in /usr/local/lib/python3.11/dist-packages (from gymnasium[box2d]) (0.0.4)\n",
            "Collecting box2d-py==2.3.5 (from gymnasium[box2d])\n",
            "  Downloading box2d-py-2.3.5.tar.gz (374 kB)\n",
            "\u001b[2K     \u001b[90m━━━━━━━━━━━━━━━━━━━━━━━━━━━━━━━━━━━━━━━━\u001b[0m \u001b[32m374.4/374.4 kB\u001b[0m \u001b[31m6.1 MB/s\u001b[0m eta \u001b[36m0:00:00\u001b[0m\n",
            "\u001b[?25h  Preparing metadata (setup.py) ... \u001b[?25l\u001b[?25hdone\n",
            "Requirement already satisfied: pygame>=2.1.3 in /usr/local/lib/python3.11/dist-packages (from gymnasium[box2d]) (2.6.1)\n",
            "Requirement already satisfied: swig==4.* in /usr/local/lib/python3.11/dist-packages (from gymnasium[box2d]) (4.3.0)\n",
            "Building wheels for collected packages: box2d-py\n",
            "  Building wheel for box2d-py (setup.py) ... \u001b[?25l\u001b[?25hdone\n",
            "  Created wheel for box2d-py: filename=box2d_py-2.3.5-cp311-cp311-linux_x86_64.whl size=2379448 sha256=387d2f51e836b54812adcf41d503437536e01e218266429c08ac1e2a6f362ff2\n",
            "  Stored in directory: /root/.cache/pip/wheels/ab/f1/0c/d56f4a2bdd12bae0a0693ec33f2f0daadb5eb9753c78fa5308\n",
            "Successfully built box2d-py\n",
            "Installing collected packages: box2d-py\n",
            "Successfully installed box2d-py-2.3.5\n"
          ]
        }
      ],
      "source": [
        "#El pimer paso es instalar todo el ambiente necesario para que frozen lake pueda ejecutarse.\n",
        "!pip install pyglet\n",
        "!pip install pygame\n",
        "\n",
        "import os\n",
        "os.environ['SDL_VIDEODRIVER']='dummy'\n",
        "import pygame\n",
        "pygame.display.set_mode((640,480))\n",
        "\n",
        "!pip install renderlab\n",
        "\n",
        "!pip install swig\n",
        "!pip install gymnasium[box2d]"
      ]
    },
    {
      "cell_type": "code",
      "source": [
        "\"\"\"  Listo, ahora podemos ejecutar nuestro entorno de Lunalander.\n",
        "Este entorno no está entrenado, simplemente se utiliza para confirmar\n",
        "que los prerequisitos se han instalado correctamente. \"\"\"\n",
        "\n",
        "import gymnasium as gym\n",
        "import renderlab as rl\n",
        "\n",
        "# Cargamos el entorno \"FrozenLake-v1\"\n",
        "# \"map_name=\"4x4\"\" nos genera 16 celdas\n",
        "# \"is_slippery=True\" nos activa la politica estocástica\n",
        "# \"render_mode='rgb_array'\" es necesario para poder obtener un video de las insteracciones\n",
        "# del agente con el entorno al finalizar\n",
        "#env = gym.make('\"LunarLander-v2\"', render_mode='rgb_array')\n",
        "env = gym.make('FrozenLake-v1', map_name=\"4x4\", is_slippery=False, render_mode='rgb_array')\n",
        "\n",
        "env = rl.RenderFrame(env, \"./output\")\n",
        "# reinicializar el entorno, enviando el agente al estado 0 (inicio)\n",
        "observation, info = env.reset()\n",
        "# inicializar la variable p para guardar \"#\" de interacciones ejecutadas\n",
        "p = 0\n",
        "\n",
        "while True:\n",
        "    # Seleccionar una acción aleatoria\n",
        "    action = env.action_space.sample()\n",
        "    # Aplicar \"step\"\n",
        "    #\"step\" ejecuta una acción por parte del Agente dentro del Entorno.\n",
        "\n",
        "      #Como habrá una transición de estado, retorna:\n",
        "      #- observation (el nuevo estado, s')\n",
        "      #- reward (la recompensa obtenida, r)\n",
        "      #- done (\"True\" si el episodio terminó)\n",
        "      #- truncated (\"True\" si está atascado)\n",
        "      #- info (datos adicionales que dependen del entorno)\n",
        "    observation, reward, terminated, truncated, info = env.step(action)\n",
        "    # Aumentar contador de interacciones\n",
        "    p = p+1\n",
        "    if terminated or truncated:\n",
        "        break\n",
        "#mostrar acción tomada:\n",
        "print(action)\n",
        "# mostrar cantidad de iteraciones alcanzadas\n",
        "print(\"Numero de interacciones: \"+str(p))\n",
        "# Cargar video de interacciones\n",
        "env.play()"
      ],
      "metadata": {
        "colab": {
          "base_uri": "https://localhost:8080/",
          "height": 455
        },
        "id": "oQk6-Hu_tkK9",
        "outputId": "1da4f449-a689-4ad7-bcc8-3fb95e571106"
      },
      "execution_count": null,
      "outputs": [
        {
          "output_type": "stream",
          "name": "stderr",
          "text": [
            "WARNING:py.warnings:/usr/local/lib/python3.11/dist-packages/moviepy/video/io/sliders.py:61: SyntaxWarning: \"is\" with a literal. Did you mean \"==\"?\n",
            "  if event.key is 'enter':\n",
            "\n"
          ]
        },
        {
          "output_type": "stream",
          "name": "stdout",
          "text": [
            "1\n",
            "Numero de interacciones: 5\n",
            "Moviepy - Building video temp-{start}.mp4.\n",
            "Moviepy - Writing video temp-{start}.mp4\n",
            "\n"
          ]
        },
        {
          "output_type": "stream",
          "name": "stderr",
          "text": [
            "                                                  "
          ]
        },
        {
          "output_type": "stream",
          "name": "stdout",
          "text": [
            "Moviepy - Done !\n",
            "Moviepy - video ready temp-{start}.mp4\n"
          ]
        },
        {
          "output_type": "stream",
          "name": "stderr",
          "text": [
            "\r"
          ]
        },
        {
          "output_type": "display_data",
          "data": {
            "text/plain": [
              "<IPython.core.display.Video object>"
            ],
            "text/html": [
              "<video controls  >\n",
              " <source src=\"data:video/mp4;base64,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\" type=\"video/mp4\">\n",
              " Your browser does not support the video tag.\n",
              " </video>"
            ]
          },
          "metadata": {}
        }
      ]
    },
    {
      "cell_type": "code",
      "source": [
        "# Inicializa la tabla Q\n",
        "import numpy as np\n",
        "Q = np.zeros([env.observation_space.n, env.action_space.n])\n",
        "\n",
        "learning_rate = 0.1\n",
        "gamma = 0.95\n",
        "num_episodes = 1000\n",
        "\n",
        "for i in range(num_episodes):\n",
        "    s = env.reset()[0]\n",
        "    done = False\n",
        "    episode_reward = 0\n",
        "    while not done:\n",
        "        a = np.argmax(Q[s,:]) #+ np.random.randn(1,env.action_space.n)*(1/(i+1)))\n",
        "        s_, recompensa, done,truncado,info = env.step(a)\n",
        "        #if recompensa>0:\n",
        "          #print(recompensa)\n",
        "        Q[s,a] =np.nan_to_num(Q[s,a]+ learning_rate*(recompensa+ gamma*np.max(Q[s_,:])-Q[s,a] ))\n",
        "        s=s_\n",
        "\n"
      ],
      "metadata": {
        "id": "tOkV0q7wvXwA",
        "colab": {
          "base_uri": "https://localhost:8080/",
          "height": 365
        },
        "outputId": "3704725d-dac3-48c3-deda-b24b2389c4c5"
      },
      "execution_count": null,
      "outputs": [
        {
          "output_type": "error",
          "ename": "KeyboardInterrupt",
          "evalue": "",
          "traceback": [
            "\u001b[0;31m---------------------------------------------------------------------------\u001b[0m",
            "\u001b[0;31mKeyboardInterrupt\u001b[0m                         Traceback (most recent call last)",
            "\u001b[0;32m<ipython-input-3-9d01d10959df>\u001b[0m in \u001b[0;36m<cell line: 0>\u001b[0;34m()\u001b[0m\n\u001b[1;32m     13\u001b[0m     \u001b[0;32mwhile\u001b[0m \u001b[0;32mnot\u001b[0m \u001b[0mdone\u001b[0m\u001b[0;34m:\u001b[0m\u001b[0;34m\u001b[0m\u001b[0;34m\u001b[0m\u001b[0m\n\u001b[1;32m     14\u001b[0m         \u001b[0ma\u001b[0m \u001b[0;34m=\u001b[0m \u001b[0mnp\u001b[0m\u001b[0;34m.\u001b[0m\u001b[0margmax\u001b[0m\u001b[0;34m(\u001b[0m\u001b[0mQ\u001b[0m\u001b[0;34m[\u001b[0m\u001b[0ms\u001b[0m\u001b[0;34m,\u001b[0m\u001b[0;34m:\u001b[0m\u001b[0;34m]\u001b[0m\u001b[0;34m)\u001b[0m \u001b[0;31m#+ np.random.randn(1,env.action_space.n)*(1/(i+1)))\u001b[0m\u001b[0;34m\u001b[0m\u001b[0;34m\u001b[0m\u001b[0m\n\u001b[0;32m---> 15\u001b[0;31m         \u001b[0ms_\u001b[0m\u001b[0;34m,\u001b[0m \u001b[0mrecompensa\u001b[0m\u001b[0;34m,\u001b[0m \u001b[0mdone\u001b[0m\u001b[0;34m,\u001b[0m\u001b[0mtruncado\u001b[0m\u001b[0;34m,\u001b[0m\u001b[0minfo\u001b[0m \u001b[0;34m=\u001b[0m \u001b[0menv\u001b[0m\u001b[0;34m.\u001b[0m\u001b[0mstep\u001b[0m\u001b[0;34m(\u001b[0m\u001b[0ma\u001b[0m\u001b[0;34m)\u001b[0m\u001b[0;34m\u001b[0m\u001b[0;34m\u001b[0m\u001b[0m\n\u001b[0m\u001b[1;32m     16\u001b[0m         \u001b[0;31m#if recompensa>0:\u001b[0m\u001b[0;34m\u001b[0m\u001b[0;34m\u001b[0m\u001b[0m\n\u001b[1;32m     17\u001b[0m           \u001b[0;31m#print(recompensa)\u001b[0m\u001b[0;34m\u001b[0m\u001b[0;34m\u001b[0m\u001b[0m\n",
            "\u001b[0;32m/usr/local/lib/python3.11/dist-packages/renderlab/render_frame.py\u001b[0m in \u001b[0;36mstep\u001b[0;34m(self, *args, **kwargs)\u001b[0m\n\u001b[1;32m     64\u001b[0m     \u001b[0;32mdef\u001b[0m \u001b[0mstep\u001b[0m\u001b[0;34m(\u001b[0m\u001b[0mself\u001b[0m\u001b[0;34m,\u001b[0m \u001b[0;34m*\u001b[0m\u001b[0margs\u001b[0m\u001b[0;34m,\u001b[0m \u001b[0;34m**\u001b[0m\u001b[0mkwargs\u001b[0m\u001b[0;34m)\u001b[0m\u001b[0;34m:\u001b[0m\u001b[0;34m\u001b[0m\u001b[0;34m\u001b[0m\u001b[0m\n\u001b[1;32m     65\u001b[0m         \u001b[0mobservation\u001b[0m\u001b[0;34m,\u001b[0m \u001b[0mreward\u001b[0m\u001b[0;34m,\u001b[0m \u001b[0mterminated\u001b[0m\u001b[0;34m,\u001b[0m \u001b[0mtruncated\u001b[0m\u001b[0;34m,\u001b[0m \u001b[0minfo\u001b[0m \u001b[0;34m=\u001b[0m \u001b[0mself\u001b[0m\u001b[0;34m.\u001b[0m\u001b[0menv\u001b[0m\u001b[0;34m.\u001b[0m\u001b[0mstep\u001b[0m\u001b[0;34m(\u001b[0m\u001b[0;34m*\u001b[0m\u001b[0margs\u001b[0m\u001b[0;34m,\u001b[0m \u001b[0;34m**\u001b[0m\u001b[0mkwargs\u001b[0m\u001b[0;34m)\u001b[0m\u001b[0;34m\u001b[0m\u001b[0;34m\u001b[0m\u001b[0m\n\u001b[0;32m---> 66\u001b[0;31m         \u001b[0mself\u001b[0m\u001b[0;34m.\u001b[0m\u001b[0m_write\u001b[0m\u001b[0;34m(\u001b[0m\u001b[0;34m)\u001b[0m\u001b[0;34m\u001b[0m\u001b[0;34m\u001b[0m\u001b[0m\n\u001b[0m\u001b[1;32m     67\u001b[0m \u001b[0;34m\u001b[0m\u001b[0m\n\u001b[1;32m     68\u001b[0m         \u001b[0;32mif\u001b[0m \u001b[0mself\u001b[0m\u001b[0;34m.\u001b[0m\u001b[0mauto_release\u001b[0m \u001b[0;32mand\u001b[0m \u001b[0;34m(\u001b[0m\u001b[0mterminated\u001b[0m \u001b[0;32mor\u001b[0m \u001b[0mtruncated\u001b[0m\u001b[0;34m)\u001b[0m\u001b[0;34m:\u001b[0m\u001b[0;34m\u001b[0m\u001b[0;34m\u001b[0m\u001b[0m\n",
            "\u001b[0;32m/usr/local/lib/python3.11/dist-packages/renderlab/render_frame.py\u001b[0m in \u001b[0;36m_write\u001b[0;34m(self)\u001b[0m\n\u001b[1;32m     48\u001b[0m     \u001b[0;32mdef\u001b[0m \u001b[0m_write\u001b[0m\u001b[0;34m(\u001b[0m\u001b[0mself\u001b[0m\u001b[0;34m)\u001b[0m\u001b[0;34m:\u001b[0m\u001b[0;34m\u001b[0m\u001b[0;34m\u001b[0m\u001b[0m\n\u001b[1;32m     49\u001b[0m         \u001b[0;32mif\u001b[0m \u001b[0mself\u001b[0m\u001b[0;34m.\u001b[0m\u001b[0mactive\u001b[0m\u001b[0;34m:\u001b[0m\u001b[0;34m\u001b[0m\u001b[0;34m\u001b[0m\u001b[0m\n\u001b[0;32m---> 50\u001b[0;31m             \u001b[0mframe\u001b[0m \u001b[0;34m=\u001b[0m \u001b[0mself\u001b[0m\u001b[0;34m.\u001b[0m\u001b[0menv\u001b[0m\u001b[0;34m.\u001b[0m\u001b[0mrender\u001b[0m\u001b[0;34m(\u001b[0m\u001b[0;34m)\u001b[0m\u001b[0;34m\u001b[0m\u001b[0;34m\u001b[0m\u001b[0m\n\u001b[0m\u001b[1;32m     51\u001b[0m             \u001b[0;32mif\u001b[0m \u001b[0mself\u001b[0m\u001b[0;34m.\u001b[0m\u001b[0mrgb\u001b[0m\u001b[0;34m:\u001b[0m\u001b[0;34m\u001b[0m\u001b[0;34m\u001b[0m\u001b[0m\n\u001b[1;32m     52\u001b[0m                 \u001b[0mframe\u001b[0m \u001b[0;34m=\u001b[0m \u001b[0mcv2\u001b[0m\u001b[0;34m.\u001b[0m\u001b[0mcvtColor\u001b[0m\u001b[0;34m(\u001b[0m\u001b[0mframe\u001b[0m\u001b[0;34m,\u001b[0m \u001b[0mcv2\u001b[0m\u001b[0;34m.\u001b[0m\u001b[0mCOLOR_BGR2RGB\u001b[0m\u001b[0;34m)\u001b[0m\u001b[0;34m\u001b[0m\u001b[0;34m\u001b[0m\u001b[0m\n",
            "\u001b[0;32m/usr/local/lib/python3.11/dist-packages/gymnasium/core.py\u001b[0m in \u001b[0;36mrender\u001b[0;34m(self)\u001b[0m\n\u001b[1;32m    330\u001b[0m     \u001b[0;32mdef\u001b[0m \u001b[0mrender\u001b[0m\u001b[0;34m(\u001b[0m\u001b[0mself\u001b[0m\u001b[0;34m)\u001b[0m \u001b[0;34m->\u001b[0m \u001b[0mRenderFrame\u001b[0m \u001b[0;34m|\u001b[0m \u001b[0mlist\u001b[0m\u001b[0;34m[\u001b[0m\u001b[0mRenderFrame\u001b[0m\u001b[0;34m]\u001b[0m \u001b[0;34m|\u001b[0m \u001b[0;32mNone\u001b[0m\u001b[0;34m:\u001b[0m\u001b[0;34m\u001b[0m\u001b[0;34m\u001b[0m\u001b[0m\n\u001b[1;32m    331\u001b[0m         \u001b[0;34m\"\"\"Uses the :meth:`render` of the :attr:`env` that can be overwritten to change the returned data.\"\"\"\u001b[0m\u001b[0;34m\u001b[0m\u001b[0;34m\u001b[0m\u001b[0m\n\u001b[0;32m--> 332\u001b[0;31m         \u001b[0;32mreturn\u001b[0m \u001b[0mself\u001b[0m\u001b[0;34m.\u001b[0m\u001b[0menv\u001b[0m\u001b[0;34m.\u001b[0m\u001b[0mrender\u001b[0m\u001b[0;34m(\u001b[0m\u001b[0;34m)\u001b[0m\u001b[0;34m\u001b[0m\u001b[0;34m\u001b[0m\u001b[0m\n\u001b[0m\u001b[1;32m    333\u001b[0m \u001b[0;34m\u001b[0m\u001b[0m\n\u001b[1;32m    334\u001b[0m     \u001b[0;32mdef\u001b[0m \u001b[0mclose\u001b[0m\u001b[0;34m(\u001b[0m\u001b[0mself\u001b[0m\u001b[0;34m)\u001b[0m\u001b[0;34m:\u001b[0m\u001b[0;34m\u001b[0m\u001b[0;34m\u001b[0m\u001b[0m\n",
            "\u001b[0;32m/usr/local/lib/python3.11/dist-packages/gymnasium/wrappers/common.py\u001b[0m in \u001b[0;36mrender\u001b[0;34m(self)\u001b[0m\n\u001b[1;32m    407\u001b[0m                 \u001b[0;34m\"set `disable_render_order_enforcing=True` on the OrderEnforcer wrapper.\"\u001b[0m\u001b[0;34m\u001b[0m\u001b[0;34m\u001b[0m\u001b[0m\n\u001b[1;32m    408\u001b[0m             )\n\u001b[0;32m--> 409\u001b[0;31m         \u001b[0;32mreturn\u001b[0m \u001b[0msuper\u001b[0m\u001b[0;34m(\u001b[0m\u001b[0;34m)\u001b[0m\u001b[0;34m.\u001b[0m\u001b[0mrender\u001b[0m\u001b[0;34m(\u001b[0m\u001b[0;34m)\u001b[0m\u001b[0;34m\u001b[0m\u001b[0;34m\u001b[0m\u001b[0m\n\u001b[0m\u001b[1;32m    410\u001b[0m \u001b[0;34m\u001b[0m\u001b[0m\n\u001b[1;32m    411\u001b[0m     \u001b[0;34m@\u001b[0m\u001b[0mproperty\u001b[0m\u001b[0;34m\u001b[0m\u001b[0;34m\u001b[0m\u001b[0m\n",
            "\u001b[0;32m/usr/local/lib/python3.11/dist-packages/gymnasium/core.py\u001b[0m in \u001b[0;36mrender\u001b[0;34m(self)\u001b[0m\n\u001b[1;32m    330\u001b[0m     \u001b[0;32mdef\u001b[0m \u001b[0mrender\u001b[0m\u001b[0;34m(\u001b[0m\u001b[0mself\u001b[0m\u001b[0;34m)\u001b[0m \u001b[0;34m->\u001b[0m \u001b[0mRenderFrame\u001b[0m \u001b[0;34m|\u001b[0m \u001b[0mlist\u001b[0m\u001b[0;34m[\u001b[0m\u001b[0mRenderFrame\u001b[0m\u001b[0;34m]\u001b[0m \u001b[0;34m|\u001b[0m \u001b[0;32mNone\u001b[0m\u001b[0;34m:\u001b[0m\u001b[0;34m\u001b[0m\u001b[0;34m\u001b[0m\u001b[0m\n\u001b[1;32m    331\u001b[0m         \u001b[0;34m\"\"\"Uses the :meth:`render` of the :attr:`env` that can be overwritten to change the returned data.\"\"\"\u001b[0m\u001b[0;34m\u001b[0m\u001b[0;34m\u001b[0m\u001b[0m\n\u001b[0;32m--> 332\u001b[0;31m         \u001b[0;32mreturn\u001b[0m \u001b[0mself\u001b[0m\u001b[0;34m.\u001b[0m\u001b[0menv\u001b[0m\u001b[0;34m.\u001b[0m\u001b[0mrender\u001b[0m\u001b[0;34m(\u001b[0m\u001b[0;34m)\u001b[0m\u001b[0;34m\u001b[0m\u001b[0;34m\u001b[0m\u001b[0m\n\u001b[0m\u001b[1;32m    333\u001b[0m \u001b[0;34m\u001b[0m\u001b[0m\n\u001b[1;32m    334\u001b[0m     \u001b[0;32mdef\u001b[0m \u001b[0mclose\u001b[0m\u001b[0;34m(\u001b[0m\u001b[0mself\u001b[0m\u001b[0;34m)\u001b[0m\u001b[0;34m:\u001b[0m\u001b[0;34m\u001b[0m\u001b[0;34m\u001b[0m\u001b[0m\n",
            "\u001b[0;32m/usr/local/lib/python3.11/dist-packages/gymnasium/wrappers/common.py\u001b[0m in \u001b[0;36mrender\u001b[0;34m(self)\u001b[0m\n\u001b[1;32m    301\u001b[0m             \u001b[0;32mreturn\u001b[0m \u001b[0menv_render_passive_checker\u001b[0m\u001b[0;34m(\u001b[0m\u001b[0mself\u001b[0m\u001b[0;34m.\u001b[0m\u001b[0menv\u001b[0m\u001b[0;34m)\u001b[0m\u001b[0;34m\u001b[0m\u001b[0;34m\u001b[0m\u001b[0m\n\u001b[1;32m    302\u001b[0m         \u001b[0;32melse\u001b[0m\u001b[0;34m:\u001b[0m\u001b[0;34m\u001b[0m\u001b[0;34m\u001b[0m\u001b[0m\n\u001b[0;32m--> 303\u001b[0;31m             \u001b[0;32mreturn\u001b[0m \u001b[0mself\u001b[0m\u001b[0;34m.\u001b[0m\u001b[0menv\u001b[0m\u001b[0;34m.\u001b[0m\u001b[0mrender\u001b[0m\u001b[0;34m(\u001b[0m\u001b[0;34m)\u001b[0m\u001b[0;34m\u001b[0m\u001b[0;34m\u001b[0m\u001b[0m\n\u001b[0m\u001b[1;32m    304\u001b[0m \u001b[0;34m\u001b[0m\u001b[0m\n\u001b[1;32m    305\u001b[0m     \u001b[0;34m@\u001b[0m\u001b[0mproperty\u001b[0m\u001b[0;34m\u001b[0m\u001b[0;34m\u001b[0m\u001b[0m\n",
            "\u001b[0;32m/usr/local/lib/python3.11/dist-packages/gymnasium/envs/toy_text/frozen_lake.py\u001b[0m in \u001b[0;36mrender\u001b[0;34m(self)\u001b[0m\n\u001b[1;32m    337\u001b[0m             \u001b[0;32mreturn\u001b[0m \u001b[0mself\u001b[0m\u001b[0;34m.\u001b[0m\u001b[0m_render_text\u001b[0m\u001b[0;34m(\u001b[0m\u001b[0;34m)\u001b[0m\u001b[0;34m\u001b[0m\u001b[0;34m\u001b[0m\u001b[0m\n\u001b[1;32m    338\u001b[0m         \u001b[0;32melse\u001b[0m\u001b[0;34m:\u001b[0m  \u001b[0;31m# self.render_mode in {\"human\", \"rgb_array\"}:\u001b[0m\u001b[0;34m\u001b[0m\u001b[0;34m\u001b[0m\u001b[0m\n\u001b[0;32m--> 339\u001b[0;31m             \u001b[0;32mreturn\u001b[0m \u001b[0mself\u001b[0m\u001b[0;34m.\u001b[0m\u001b[0m_render_gui\u001b[0m\u001b[0;34m(\u001b[0m\u001b[0mself\u001b[0m\u001b[0;34m.\u001b[0m\u001b[0mrender_mode\u001b[0m\u001b[0;34m)\u001b[0m\u001b[0;34m\u001b[0m\u001b[0;34m\u001b[0m\u001b[0m\n\u001b[0m\u001b[1;32m    340\u001b[0m \u001b[0;34m\u001b[0m\u001b[0m\n\u001b[1;32m    341\u001b[0m     \u001b[0;32mdef\u001b[0m \u001b[0m_render_gui\u001b[0m\u001b[0;34m(\u001b[0m\u001b[0mself\u001b[0m\u001b[0;34m,\u001b[0m \u001b[0mmode\u001b[0m\u001b[0;34m)\u001b[0m\u001b[0;34m:\u001b[0m\u001b[0;34m\u001b[0m\u001b[0;34m\u001b[0m\u001b[0m\n",
            "\u001b[0;32m/usr/local/lib/python3.11/dist-packages/gymnasium/envs/toy_text/frozen_lake.py\u001b[0m in \u001b[0;36m_render_gui\u001b[0;34m(self, mode)\u001b[0m\n\u001b[1;32m    434\u001b[0m         \u001b[0;32melif\u001b[0m \u001b[0mmode\u001b[0m \u001b[0;34m==\u001b[0m \u001b[0;34m\"rgb_array\"\u001b[0m\u001b[0;34m:\u001b[0m\u001b[0;34m\u001b[0m\u001b[0;34m\u001b[0m\u001b[0m\n\u001b[1;32m    435\u001b[0m             return np.transpose(\n\u001b[0;32m--> 436\u001b[0;31m                 \u001b[0mnp\u001b[0m\u001b[0;34m.\u001b[0m\u001b[0marray\u001b[0m\u001b[0;34m(\u001b[0m\u001b[0mpygame\u001b[0m\u001b[0;34m.\u001b[0m\u001b[0msurfarray\u001b[0m\u001b[0;34m.\u001b[0m\u001b[0mpixels3d\u001b[0m\u001b[0;34m(\u001b[0m\u001b[0mself\u001b[0m\u001b[0;34m.\u001b[0m\u001b[0mwindow_surface\u001b[0m\u001b[0;34m)\u001b[0m\u001b[0;34m)\u001b[0m\u001b[0;34m,\u001b[0m \u001b[0maxes\u001b[0m\u001b[0;34m=\u001b[0m\u001b[0;34m(\u001b[0m\u001b[0;36m1\u001b[0m\u001b[0;34m,\u001b[0m \u001b[0;36m0\u001b[0m\u001b[0;34m,\u001b[0m \u001b[0;36m2\u001b[0m\u001b[0;34m)\u001b[0m\u001b[0;34m\u001b[0m\u001b[0;34m\u001b[0m\u001b[0m\n\u001b[0m\u001b[1;32m    437\u001b[0m             )\n\u001b[1;32m    438\u001b[0m \u001b[0;34m\u001b[0m\u001b[0m\n",
            "\u001b[0;31mKeyboardInterrupt\u001b[0m: "
          ]
        }
      ]
    },
    {
      "cell_type": "code",
      "source": [
        "s, info = env.reset()\n",
        "contador=0\n",
        "limit=300\n",
        "while True:\n",
        "  action= np.argmax(Q[s,:])\n",
        "  observation, reward, terminated, truncated, info = env.step(action)\n",
        "  s=observation\n",
        "  if reward>0:\n",
        "    print(reward)\n",
        "    break\n",
        "  contador+=1\n",
        "  if contador>limit:\n",
        "    break\n",
        "\n",
        "env.play()\n",
        "\n",
        "\n"
      ],
      "metadata": {
        "id": "jDFHe243Kmcw",
        "colab": {
          "base_uri": "https://localhost:8080/",
          "height": 384
        },
        "outputId": "de095ff7-9627-432e-b707-ef2fcca43086"
      },
      "execution_count": null,
      "outputs": [
        {
          "output_type": "stream",
          "name": "stdout",
          "text": [
            "1.0\n",
            "Moviepy - Building video temp-{start}.mp4.\n",
            "Moviepy - Writing video temp-{start}.mp4\n",
            "\n"
          ]
        },
        {
          "output_type": "stream",
          "name": "stderr",
          "text": [
            "                                                  "
          ]
        },
        {
          "output_type": "stream",
          "name": "stdout",
          "text": [
            "Moviepy - Done !\n",
            "Moviepy - video ready temp-{start}.mp4\n"
          ]
        },
        {
          "output_type": "stream",
          "name": "stderr",
          "text": [
            "\r"
          ]
        },
        {
          "output_type": "display_data",
          "data": {
            "text/plain": [
              "<IPython.core.display.Video object>"
            ],
            "text/html": [
              "<video controls  >\n",
              " <source src=\"data:video/mp4;base64,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\" type=\"video/mp4\">\n",
              " Your browser does not support the video tag.\n",
              " </video>"
            ]
          },
          "metadata": {}
        }
      ]
    },
    {
      "cell_type": "code",
      "source": [
        "print(Q.shape)"
      ],
      "metadata": {
        "id": "i7KSOtjsilAP",
        "colab": {
          "base_uri": "https://localhost:8080/"
        },
        "outputId": "5214201f-d37d-4be0-a0d9-739bd6bf2eab"
      },
      "execution_count": null,
      "outputs": [
        {
          "output_type": "stream",
          "name": "stdout",
          "text": [
            "(64, 4)\n"
          ]
        }
      ]
    },
    {
      "cell_type": "code",
      "source": [
        "7000000/24"
      ],
      "metadata": {
        "id": "969iRllrm01B",
        "outputId": "a9e6faa3-ec75-4c39-f534-75a82ca88300",
        "colab": {
          "base_uri": "https://localhost:8080/"
        }
      },
      "execution_count": null,
      "outputs": [
        {
          "output_type": "execute_result",
          "data": {
            "text/plain": [
              "291666.6666666667"
            ]
          },
          "metadata": {},
          "execution_count": 1
        }
      ]
    },
    {
      "cell_type": "code",
      "source": [],
      "metadata": {
        "id": "ut-FD8ASj7KJ"
      },
      "execution_count": null,
      "outputs": []
    }
  ]
}